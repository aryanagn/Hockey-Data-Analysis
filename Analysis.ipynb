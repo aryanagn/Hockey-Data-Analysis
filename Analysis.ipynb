{
 "cells": [
  {
   "cell_type": "markdown",
   "id": "3b9715e6",
   "metadata": {},
   "source": [
    "# Introduction"
   ]
  },
  {
   "attachments": {},
   "cell_type": "markdown",
   "id": "7a482ac9",
   "metadata": {},
   "source": [
    "Important Info:\n",
    " The goal with this questionnaire is to assess your problem solving, hockey knowledge, and coding/stats abilities and your (hopeful) fit with some of our day-to-day tasks. If you find yourself stuck or unsure on a question, showing your work and explaining your problem solving/decision making is still highly recommended.\n",
    "\n",
    "Libraries:\n",
    "- You'll want to import libraries such as numpy, pandas, a plotting library like plotly/matplotlib, and a stats library of your choosing (sklearn for example)\n",
    "\n",
    "Data Info:\n",
    "- There are two data files. One has a condensed event set from a randomly chosen hockey game and the other contains Expected Goals values (xg) provided only for shots that successfully hit the net. If an xg value doesn't correspond to a shot event, it should not be counted\n",
    "\n",
    "- X and Y Coordinates are in Feet and are adjusted such that both teams shoot in the same direction\n",
    "\n",
    "- Line Carry events are tagged when the puck is carried over either blue line or the centre ice red line\n",
    "\n",
    "- Binary columns that have values of 0 or 1 indicate 0=No, 1=Yes\n",
    "\n",
    "- Successfull passes are completed passes, successful shots are shots on net\n",
    "\n"
   ]
  },
  {
   "attachments": {},
   "cell_type": "markdown",
   "id": "931a42d8-386b-4b15-8dec-0b6c083b8545",
   "metadata": {},
   "source": [
    "# **Ongoing Data Analysis**\n",
    "## Finished Dataset, could not answer a few questions but managed to do a majority. Really enjoyed this assessment as it pushed me to the edge of my data analysis techniques. I am always willing to learn from my mistakes and keep on learning to develop my skills."
   ]
  },
  {
   "cell_type": "code",
   "execution_count": 29,
   "id": "2d0b5ce9",
   "metadata": {},
   "outputs": [],
   "source": [
    "import pandas as pd\n",
    "import numpy as np\n",
    "from sklearn.cluster import KMeans\n",
    "from sklearn.model_selection import train_test_split\n",
    "from sklearn.linear_model import LogisticRegression\n",
    "import seaborn as sns\n",
    "import matplotlib.pyplot as plt\n",
    "import math\n"
   ]
  },
  {
   "cell_type": "markdown",
   "id": "76a61952",
   "metadata": {},
   "source": [
    "## Q1) \n",
    "### a) Who won the game & what was the score?\n",
    "### b) Who won the Expected Goals (xg) battle & what was each team's total xg?\n",
    "### c) What do these two answers tell us about how the two teams played?"
   ]
  },
  {
   "cell_type": "markdown",
   "id": "10b879a4",
   "metadata": {},
   "source": [
    "## A1) \n",
    "### a) Based on the given data, we cannot determine who won the game and what the score was as there is no attribute for the actual score of the game and the goals are all 0 so we have to consider scoredifferential and compiledgametime. The data only includes attributes related to player and team performance during the game such as possession, zone, coordinates, and skaters on the ice. These attributes can provide insights into the flow and dynamics of the game, but they cannot determine the final score or the winner of the game without additional information. Tried my best but could not come to a final answer. Thought process and code is below (Q1)\n",
    "### b) (Q2 code below) The expected goals (xG) are almost the same for both the teams. Teamid 596 = 2.232580 xg score and 724 = 2.225769 xg score. Though similar, teamid of 596 wins barely for the expected goals battle. \n",
    "### c) The game was close as both teams had equal opportunities/chances to score. Though, it does not tell us how each team played in terms of tactics, strategy, or overall performance. To understand how the teams played, we would need to analyze additional data such as possession, shots on target, successful passes, etc."
   ]
  },
  {
   "cell_type": "code",
   "execution_count": 4,
   "id": "4e199265-4eaf-4bd0-832f-4d62b9d0efc1",
   "metadata": {},
   "outputs": [],
   "source": [
    "df = pd.read_csv(\"Tutorial22_df.csv\")\n",
    "\n",
    "#df.head(5) testing data appears\n",
    "\n",
    "df2 = pd.read_csv(\"Tutorial22_xG_df.csv\")\n",
    "\n",
    "#df2.head(5)"
   ]
  },
  {
   "cell_type": "code",
   "execution_count": null,
   "id": "cd930532",
   "metadata": {
    "scrolled": true
   },
   "outputs": [],
   "source": [
    "\n",
    "#Q1\n",
    "#Work to calculate who won the game using shots taken approach\n",
    "#analyze events that occurred within the game\n",
    "#Cannot really tell who won the game without knowing what the team is and how the outcome corresponds. I will show my thought process however.\n",
    "\n",
    "df = pd.read_csv(\"Tutorial22_df.csv\")\n",
    "\n",
    "#df.head(5) testing data appears\n",
    "\n",
    "df2 = pd.read_csv(\"Tutorial22_xG_df.csv\")\n",
    "\n",
    "#df2.head(5)\n",
    "\n",
    "#both datasets loaded\n",
    "\n",
    "#get goals events\n",
    "goals = df[df[\"eventname\"] == \"Goal\"]\n",
    "\n",
    "#sum of goals by teamid\n",
    "team_scores = goals.groupby(\"teamid\").size().reset_index(name=\"score\")\n",
    "\n",
    "#take goal numbers into consideration to calc winner (but had trouble here)\n",
    "if team_scores[\"score\"].iloc[0] > team_scores[\"score\"].iloc[1]:\n",
    "    winner = team_scores[\"teamid\"].iloc[0]\n",
    "elif team_scores[\"score\"].iloc[0] < team_scores[\"score\"].iloc[1]:\n",
    "    winner = team_scores[\"teamid\"].iloc[1]\n",
    "else:\n",
    "    #If the total number of goals is tied, consider other factors\n",
    "    #scoredifferential or compiledgametime to determine the winner\n",
    "    winner = \"Tie\"\n",
    "    \n",
    "#final score\n",
    "score = f\"{team_scores['score'].iloc[0]} - {team_scores['score'].iloc[1]}\"\n",
    "\n",
    "# Output the results\n",
    "print(f\"The winner is team {winner} with a final score of {score}.\")\n",
    "\n",
    "\n"
   ]
  },
  {
   "cell_type": "code",
   "execution_count": 35,
   "id": "7e4568f0-6f6a-499d-ade5-637d33c37163",
   "metadata": {},
   "outputs": [
    {
     "name": "stdout",
     "output_type": "stream",
     "text": [
      "teamid\n",
      "596    4.742615\n",
      "724    3.221937\n",
      "Name: xg, dtype: float64\n"
     ]
    }
   ],
   "source": [
    "#Q2\n",
    "\n",
    "#My approach: group dataset by the key teamid and get the total of xg (sum) values for the team\n",
    "\n",
    "#load dataset\n",
    "df2 = pd.read_csv(\"Tutorial22_xG_df.csv\")\n",
    "xG_sum = df2.groupby('teamid')['xg'].sum()\n",
    "print(xG_sum)\n"
   ]
  },
  {
   "cell_type": "markdown",
   "id": "3ceee930",
   "metadata": {},
   "source": [
    "## Q2)\n",
    "### a) Which possessionid had the highest total successful passes? \n",
    "### b) How many successful passes were there and why do you think this specific possession had so many?"
   ]
  },
  {
   "cell_type": "markdown",
   "id": "6c191162",
   "metadata": {},
   "source": [
    "## A2) \n",
    "### a) posessionid = 417\n",
    "### b) successful_passes = 19  \n",
    "### The team in possession may have had a particularly strong passing game or may have been playing against a weaker defensive team. The players involved in the possession may have had good communication and teamwork, making it easier for them to successfully pass the puck. Additionally, the opposing team may have been focused on defending against shots on goal rather than disrupting the possession, allowing the team in possession to maintain control of the puck and make successful passes thus resulting in higher pass count that were successful."
   ]
  },
  {
   "cell_type": "code",
   "execution_count": 4,
   "id": "90ac722a-fa29-4cf3-b06e-1ee365b05f13",
   "metadata": {},
   "outputs": [
    {
     "name": "stdout",
     "output_type": "stream",
     "text": [
      "The possessionid with the highest total successful passes is 417 with a total of 19 successful passes.\n"
     ]
    }
   ],
   "source": [
    "#Q1 and Q2\n",
    "df = pd.read_csv(\"Tutorial22_df.csv\") #read dataset\n",
    "successful_passes = df[df[\"outcome\"] == \"successful\"] #filter by successful passes\n",
    "\n",
    "#group data by possid and total of successfull passes\n",
    "pass_counts = successful_passes.groupby(\"possessionid\").size().reset_index(name=\"num_successful_passes\")\n",
    "\n",
    "#possid with highest passes that were successful\n",
    "highest_pass_count = pass_counts[\"num_successful_passes\"].max()\n",
    "possessionid_with_highest_pass_count = pass_counts[pass_counts[\"num_successful_passes\"] == highest_pass_count][\"possessionid\"].iloc[0]\n",
    "\n",
    "#print outcome\n",
    "print(f\"The possessionid with the highest total successful passes is {possessionid_with_highest_pass_count} with a total of {highest_pass_count} successful passes.\")"
   ]
  },
  {
   "cell_type": "markdown",
   "id": "bd50c34d",
   "metadata": {},
   "source": [
    "## Q3)\n",
    "### a) Using the event data provided along with x/y coordinate columns, can you identify the likely xCoord of each blueline?"
   ]
  },
  {
   "cell_type": "markdown",
   "id": "20941a95",
   "metadata": {},
   "source": [
    "## A3)\n",
    "### a) We can approach this visually and through a statistical point of view with sklearn. I also used matplotlib to illustrate the frequent occurrence of the xCoord of each blue line"
   ]
  },
  {
   "cell_type": "code",
   "execution_count": 62,
   "id": "154e09ed",
   "metadata": {},
   "outputs": [
    {
     "data": {
      "image/png": "[encoded data removed]",
      "text/plain": [
       "<Figure size 640x480 with 1 Axes>"
      ]
     },
     "metadata": {},
     "output_type": "display_data"
    }
   ],
   "source": [
    "#load data\n",
    "df = pd.read_csv(\"Tutorial22_df.csv\")\n",
    "\n",
    "\n",
    "#plotting the histogram with varying frequency\n",
    "plt.hist(df[\"xcoord\"], bins=30)\n",
    "plt.xlabel(\"xCoord\")\n",
    "plt.ylabel(\"Frequency\")\n",
    "plt.show()"
   ]
  },
  {
   "cell_type": "code",
   "execution_count": 6,
   "id": "b722a178-ce2f-4477-bcb8-122298dbced7",
   "metadata": {},
   "outputs": [
    {
     "name": "stdout",
     "output_type": "stream",
     "text": [
      "The likely xCoord of each blueline is [-46.20098338  53.03179747].\n"
     ]
    },
    {
     "name": "stderr",
     "output_type": "stream",
     "text": [
      "C:\\Users\\aryan\\miniconda3\\lib\\site-packages\\sklearn\\cluster\\_kmeans.py:870: FutureWarning: The default value of `n_init` will change from 10 to 'auto' in 1.4. Set the value of `n_init` explicitly to suppress the warning\n",
      "  warnings.warn(\n"
     ]
    }
   ],
   "source": [
    "\n",
    "#Use K-means clustering to identify the likely xCoord of each blueline\n",
    "kmeans = KMeans(n_clusters=2, random_state=0).fit(df[[\"xcoord\"]])\n",
    "blueline = kmeans.cluster_centers_.ravel()\n",
    "\n",
    "# Output the results\n",
    "print(f\"The likely xCoord of each blueline is {blueline}.\")"
   ]
  },
  {
   "cell_type": "markdown",
   "id": "15e4e1f4",
   "metadata": {},
   "source": [
    "## Q4)\n",
    "### a) Create a subset of all shot attempts in the game and then with the plotting library of your choice, produce one scatter plot per team to illustrate where their shots were located and highlight any goals that were scored.\n",
    "### b) Describe in 2-4 sentences your findings for each team."
   ]
  },
  {
   "cell_type": "markdown",
   "id": "0ad99b06",
   "metadata": {},
   "source": [
    "## A4)\n",
    "### a) Graphed below\n",
    "### b) We can visually see that teamid 596 had most of their shots after the half court line (>30 x-coordinate value) with an outlier shot of 1 approximately (-50,39). Teamid 724, however, had their shots scattered throughout the rink varying from after the 30 x-coordinate value. Similarities include on the x-coordinate value of 30 where most shots were taken for both teams. "
   ]
  },
  {
   "cell_type": "code",
   "execution_count": 11,
   "id": "639a3519",
   "metadata": {},
   "outputs": [
    {
     "data": {
      "image/png": "[encoded data removed]",
      "text/plain": [
       "<Figure size 640x480 with 1 Axes>"
      ]
     },
     "metadata": {},
     "output_type": "display_data"
    },
    {
     "data": {
      "image/png": "[encoded data removed]",
      "text/plain": [
       "<Figure size 640x480 with 1 Axes>"
      ]
     },
     "metadata": {},
     "output_type": "display_data"
    }
   ],
   "source": [
    "import pandas as pd\n",
    "import matplotlib.pyplot as plt\n",
    "\n",
    "#read data\n",
    "df = pd.read_csv('Tutorial22_df.csv')\n",
    "\n",
    "#filter for shots only\n",
    "shots = df[df['eventname'] == 'shot']\n",
    "\n",
    "#group shots by teamid\n",
    "shots_by_team = shots.groupby('teamid')\n",
    "\n",
    "#iterate over each team and plot shots\n",
    "for teamid, team_shots in shots_by_team:\n",
    "    #create a scatter plot of shot locations\n",
    "    plt.scatter(team_shots['xcoord'], team_shots['ycoord'])\n",
    "    \n",
    "    #highlight goals with a different color (0 goals scored so they are not highlighted green)\n",
    "    goals = team_shots[team_shots['eventname'] == 'goal']\n",
    "    plt.scatter(goals['xcoord'], goals['ycoord'], color='green')\n",
    "    \n",
    "    #set plot title and axis labels\n",
    "    plt.title(f'Team {teamid} Shot Locations')\n",
    "    plt.xlabel('x Coordinate')\n",
    "    plt.ylabel('y Coordinate')\n",
    "    \n",
    "    #show the plot\n",
    "    plt.show()\n"
   ]
  },
  {
   "cell_type": "markdown",
   "id": "c42be5fc",
   "metadata": {},
   "source": [
    "## Q5)\n",
    "### a) If the centre of the net that teams shoot at is located at xCoord=89, yCoord=0, create a column for the distance from each shot to this point. What is the distance of the furthest goal scored in the game?\n",
    "### b) What is the expected goals (xg) value of this furthest goal and what do you think contributed to this xg value?"
   ]
  },
  {
   "cell_type": "markdown",
   "id": "230ee416",
   "metadata": {},
   "source": [
    "## A5)\n",
    "### a) 188.38995295004713\n",
    "### b) The xG (measured between 0-1) may be low. There is a lot of probability and other factors that play into this xG calculation. It is based on  the distance of the shot, the angle of the shot, the type of shot, the trajectory etc. So it is really difficult to tell without more clarification... It can really vary: A shot taken from a long distance with a low chance of scoring may have a low xG value, while a shot taken from a closer distance with a higher chance of scoring may have a higher xG value."
   ]
  },
  {
   "cell_type": "code",
   "execution_count": 27,
   "id": "7b9c6e2d",
   "metadata": {},
   "outputs": [
    {
     "name": "stdout",
     "output_type": "stream",
     "text": [
      "The distance of the furthest goal scored in the game is: 188.38995295004713\n"
     ]
    }
   ],
   "source": [
    "#Q1\n",
    "xCoord = 89\n",
    "yCoord = 0\n",
    "\n",
    "#using distance formula to calculate the distance from each shot to that point.\n",
    "#distance = sqrt((x2 - x1)^2 +(y2 - y1)^2) could also use NumPy and do np.sqrt for pythagoream theorem np.sqrt((df['xcoord'] - 89)**2 + df['ycoord']**2)\n",
    "df['distance_to_point'] = df.apply(lambda row: math.sqrt((row['xcoord'] - xCoord)**2 + (row['ycoord'] - yCoord)**2), axis=1)\n",
    "#goals = df[df['goal'] == 1] #void because there are 0 goals in the dataset so furthest shot is taken into account\n",
    "#dist = goals['distance_to_point'].max()\n",
    "dist = df['distance_to_point'].max()\n",
    "print('The distance of the furthest goal scored in the game is:', dist)"
   ]
  },
  {
   "cell_type": "markdown",
   "id": "7fd43684",
   "metadata": {},
   "source": [
    "## Q6)\n",
    "### a) If a \"Shot Assist\" is defined as a sequence of events with the same possessionid where there is: 1) a successful pass followed by 2) a successful reception by a teammate and then without giving up the puck 3) the receiving player has a shot attempt, create a column flagging shots that have a Shot Assist. Which player(s) had the most assisted shots in the game and how many assisted shots did they have?\n",
    "\n",
    "### Hint: This can be done using iterrows() or using shift() logic. Consider if you should include ALL event rows and beware of sorting!"
   ]
  },
  {
   "cell_type": "markdown",
   "id": "c60cf07b",
   "metadata": {},
   "source": [
    "## A6)\n",
    "### a) 37"
   ]
  },
  {
   "cell_type": "code",
   "execution_count": 10,
   "id": "1cb9469c-a979-43b5-9249-84e11b2ff1b1",
   "metadata": {},
   "outputs": [
    {
     "name": "stdout",
     "output_type": "stream",
     "text": [
      "Player(s) with the most assisted shots:\n",
      "successful    37\n",
      "Name: outcome, dtype: int64\n"
     ]
    }
   ],
   "source": [
    "import pandas as pd\n",
    "\n",
    "#read data\n",
    "df = pd.read_csv('Tutorial22_df.csv')\n",
    "\n",
    "#func to check if a shot had a shot assist\n",
    "def has_shot_assist(possession):\n",
    "    #get all events in the possession\n",
    "    events = df[df['possessionid']==possession]\n",
    "    #check if the posession has atleast 3 events (labelled in the question)\n",
    "    if len(events) < 3:\n",
    "        return False\n",
    "    #check if first event = successfull pass\n",
    "    if events.iloc[0]['eventname'] != 'pass' or events.iloc[0]['outcome'] != 'successful':\n",
    "        return False\n",
    "    #check for successful reception (2nd event)\n",
    "    if events.iloc[1]['eventname'] != 'reception' or events.iloc[1]['outcome'] != 'successful':\n",
    "        return False\n",
    "    #check shot by the receiving player without giving up the puck\n",
    "    if events.iloc[2]['eventname'] != 'shot' or events.iloc[2]['outcome'] != 'successful':\n",
    "        return False\n",
    "    return True\n",
    "\n",
    "#create a new column 'Shot Assist' \n",
    "df['Shot Assist'] = df.apply(lambda x: has_shot_assist(x['possessionid']), axis=1)\n",
    "\n",
    "#get the players with the most assisted shots and set it to true for all shots with a Shot Assist\n",
    "assisted_shots = df[df['Shot Assist']==True]['outcome'].value_counts()\n",
    "\n",
    "#print outcome\n",
    "print(\"Player(s) with the most assisted shots:\")\n",
    "print(assisted_shots)\n"
   ]
  },
  {
   "cell_type": "code",
   "execution_count": 14,
   "id": "7c49a556-617d-4aca-af13-35cbe635f22a",
   "metadata": {},
   "outputs": [
    {
     "name": "stdout",
     "output_type": "stream",
     "text": [
      "Total successful outcomes: 1360\n"
     ]
    }
   ],
   "source": [
    "total_successful_outcomes = df['outcome'].value_counts()['successful']\n",
    "print(\"Total successful outcomes:\", total_successful_outcomes)"
   ]
  },
  {
   "cell_type": "markdown",
   "id": "c6779d7f",
   "metadata": {},
   "source": [
    "## Q7)\n",
    "### a) What is highest xg among the goals that were scored and why do you think it was this high? \n",
    "### b) Did this goal have a shot assist?"
   ]
  },
  {
   "cell_type": "markdown",
   "id": "b13b8f8b",
   "metadata": {},
   "source": [
    "## A7)\n",
    "### a)0.999534607 This could be due to numerous reasons, mainly the quality of the shot. For example, the power that went into the shot, the angle, how far it was shot from, the player's skill/strength. Moreover, how the opposing team defended. XG is an estimate and does not capture all aspects of the shot's characteristics. \n",
    "### b) No it did not have a shot assist"
   ]
  },
  {
   "cell_type": "code",
   "execution_count": 20,
   "id": "00833bad",
   "metadata": {},
   "outputs": [
    {
     "name": "stdout",
     "output_type": "stream",
     "text": [
      "The highest xg among the scored goals is: 0.999534607\n"
     ]
    }
   ],
   "source": [
    "#Q1\n",
    "#merge the two dataframes on playerid and compiledgametime\n",
    "merged_df = pd.merge(df, df2, on=[\"playerid\", \"compiledgametime\"])\n",
    "\n",
    "#find the maximum xg among the scored goals\n",
    "max_xg = merged_df.loc[merged_df[\"outcome\"] == \"successful\", \"xg\"].max()\n",
    "\n",
    "#print outcome\n",
    "print(\"The highest xg among the scored goals is:\", max_xg)\n"
   ]
  },
  {
   "cell_type": "code",
   "execution_count": 22,
   "id": "b40dace2-2409-42f7-8102-66a296a03592",
   "metadata": {},
   "outputs": [
    {
     "name": "stdout",
     "output_type": "stream",
     "text": [
      "Goal 0 did not have a shot assist.\n",
      "Goal 0 did not have a shot assist.\n",
      "Goal 0 did not have a shot assist.\n",
      "Goal 0 had a shot assist.\n",
      "Goal 0 did not have a shot assist.\n",
      "Goal 0 had a shot assist.\n",
      "Goal 0 did not have a shot assist.\n",
      "Goal 0 did not have a shot assist.\n",
      "Goal 0 did not have a shot assist.\n",
      "Goal 0 did not have a shot assist.\n",
      "Goal 0 had a shot assist.\n",
      "Goal 0 did not have a shot assist.\n",
      "Goal 0 did not have a shot assist.\n",
      "Goal 0 did not have a shot assist.\n",
      "Goal 0 did not have a shot assist.\n",
      "Goal 1 had a shot assist.\n",
      "Goal 0 did not have a shot assist.\n",
      "Goal 0 did not have a shot assist.\n",
      "Goal 0 did not have a shot assist.\n",
      "Goal 0 did not have a shot assist.\n",
      "Goal 0 did not have a shot assist.\n",
      "Goal 0 did not have a shot assist.\n",
      "Goal 0 did not have a shot assist.\n",
      "Goal 0 did not have a shot assist.\n",
      "Goal 0 did not have a shot assist.\n",
      "Goal 0 did not have a shot assist.\n",
      "Goal 0 did not have a shot assist.\n",
      "Goal 0 did not have a shot assist.\n",
      "Goal 0 did not have a shot assist.\n",
      "Goal 0 did not have a shot assist.\n",
      "Goal 0 did not have a shot assist.\n",
      "Goal 0 did not have a shot assist.\n",
      "Goal 0 did not have a shot assist.\n",
      "Goal 0 did not have a shot assist.\n",
      "Goal 0 did not have a shot assist.\n",
      "Goal 0 did not have a shot assist.\n",
      "Goal 0 did not have a shot assist.\n",
      "Goal 0 did not have a shot assist.\n",
      "Goal 0 did not have a shot assist.\n",
      "Goal 0 had a shot assist.\n",
      "Goal 0 did not have a shot assist.\n",
      "Goal 0 did not have a shot assist.\n",
      "Goal 0 did not have a shot assist.\n",
      "Goal 0 did not have a shot assist.\n",
      "Goal 0 had a shot assist.\n",
      "Goal 0 did not have a shot assist.\n",
      "Goal 0 did not have a shot assist.\n",
      "Goal 0 did not have a shot assist.\n",
      "Goal 0 did not have a shot assist.\n",
      "Goal 0 had a shot assist.\n",
      "Goal 0 did not have a shot assist.\n",
      "Goal 0 did not have a shot assist.\n",
      "Goal 0 did not have a shot assist.\n",
      "Goal 0 did not have a shot assist.\n",
      "Goal 0 did not have a shot assist.\n",
      "Goal 0 did not have a shot assist.\n",
      "Goal 0 did not have a shot assist.\n",
      "Goal 0 did not have a shot assist.\n",
      "Goal 0 did not have a shot assist.\n",
      "Goal 0 did not have a shot assist.\n",
      "Goal 0 did not have a shot assist.\n",
      "Goal 0 did not have a shot assist.\n",
      "Goal 0 had a shot assist.\n",
      "Goal 0 did not have a shot assist.\n",
      "Goal 0 did not have a shot assist.\n",
      "Goal 0 had a shot assist.\n",
      "Goal 1 did not have a shot assist.\n",
      "Goal 0 did not have a shot assist.\n",
      "Goal 0 did not have a shot assist.\n",
      "Goal 0 did not have a shot assist.\n",
      "Goal 1 did not have a shot assist.\n",
      "Goal 0 did not have a shot assist.\n",
      "Goal 0 did not have a shot assist.\n",
      "Goal 0 did not have a shot assist.\n",
      "Goal 0 did not have a shot assist.\n",
      "Goal 0 did not have a shot assist.\n",
      "Goal 0 did not have a shot assist.\n",
      "Goal 0 did not have a shot assist.\n",
      "Goal 0 did not have a shot assist.\n",
      "Goal 0 did not have a shot assist.\n",
      "Goal 0 did not have a shot assist.\n",
      "Goal 1 had a shot assist.\n",
      "Goal 0 did not have a shot assist.\n",
      "Goal 0 did not have a shot assist.\n",
      "Goal 0 did not have a shot assist.\n",
      "Goal 0 did not have a shot assist.\n",
      "Goal 0 did not have a shot assist.\n",
      "Goal 0 did not have a shot assist.\n",
      "Goal 0 did not have a shot assist.\n",
      "Goal 0 had a shot assist.\n",
      "Goal 1 did not have a shot assist.\n",
      "Goal 0 did not have a shot assist.\n",
      "Goal 0 did not have a shot assist.\n",
      "Goal 0 did not have a shot assist.\n",
      "Goal 0 did not have a shot assist.\n",
      "Goal 0 did not have a shot assist.\n",
      "Goal 0 did not have a shot assist.\n",
      "Goal 0 did not have a shot assist.\n",
      "Goal 0 did not have a shot assist.\n",
      "Goal 0 did not have a shot assist.\n",
      "Goal 0 did not have a shot assist.\n",
      "Goal 0 did not have a shot assist.\n",
      "Goal 0 did not have a shot assist.\n",
      "Goal 0 did not have a shot assist.\n",
      "Goal 0 did not have a shot assist.\n",
      "Goal 0 did not have a shot assist.\n",
      "Goal 0 did not have a shot assist.\n",
      "Goal 0 did not have a shot assist.\n",
      "Goal 0 did not have a shot assist.\n",
      "Goal 0 did not have a shot assist.\n",
      "Goal 0 did not have a shot assist.\n",
      "Goal 0 did not have a shot assist.\n"
     ]
    }
   ],
   "source": [
    "#Q2\n",
    "#get the row(s) for the goal(s) in question\n",
    "goal_rows = df[df['eventname'] == 'shot']\n",
    "\n",
    "# check if each goal had a shot assist\n",
    "for index, row in goal_rows.iterrows():\n",
    "    if df[(df['possessionid'] == row['possessionid']) & (df['eventname'] == 'shot') & (df['outcome'] == 'successful')]['Shot Assist'].any():\n",
    "        print(f\"Goal {row['goal']} had a shot assist.\")\n",
    "    else:\n",
    "        print(f\"Goal {row['goal']} did not have a shot assist.\")"
   ]
  },
  {
   "cell_type": "markdown",
   "id": "78a1e7c5",
   "metadata": {},
   "source": [
    "## Q8) \n",
    "### a) Consider other shots with high xg values, without engineering any additional features (aside from the columns you've already been asked to create in the questions above), use a statistical technique of your choice to show the highest predictors of a goal within this dataset.\n",
    "### b) Please explain your reasoning for choosing this technique and explain your findings\n",
    "\n",
    "### Hint: look back at the columns you were asked to create, along with the columns already provided in the event dataset, what would lead to dangerous shot attempts?"
   ]
  },
  {
   "cell_type": "markdown",
   "id": "16fba9ea",
   "metadata": {},
   "source": [
    "## A8)\n",
    "### a) Not that familiar with logistic regression/linear regression, tried to implement what I could to my best ability with previous knowledge\n",
    "### b) The statistical technique that would be efficient to demonstrate the highest predictors of a goal within this dataset would be logistic regression. We can utilize this to predict whether the shot caused a goal or if it did not through probability/chance. So, make a new column 'outcome_goal' and see if it is successful and if so make it equal to 1 and if not 0. After this we can select some features like the coordinates of the goal, the type, amount of players on the ice, xg, and goal amount. Then split the data and train/test the logistic regression model. Then examine and evaluate to find the highest predictors."
   ]
  },
  {
   "cell_type": "code",
   "execution_count": null,
   "id": "41ff1fbd",
   "metadata": {},
   "outputs": [],
   "source": [
    "#not really that familiar with logistic regression, tried my best to explain above though I could not implement it. Always willing to learn what \n",
    "#I can do to improve.\n",
    "# read data from csv file\n",
    "df = pd.read_csv('Tutorial22_df.csv')\n",
    "\n",
    "#add a new column 'outcome_goal' which is 1 if the outcome is 'successful', and 0 otherwise\n",
    "df['outcome_goal'] = (df['outcome'] == 'successful').astype(int)\n",
    "\n",
    "#features for logistic regression model\n",
    "features = ['xcoord', 'ycoord', 'type', 'teamskatersonicecount', 'goal', 'xg']\n",
    "\n",
    "#split data into training and testing sets??? Tried my best here wasn't sure...\n",
    "X_train, X_test, y_train, y_test = train_test_split(df[features], df['outcome_goal'], test_size=0.2, random_state=42)\n",
    "\n",
    "#logistic regression model -> training data\n",
    "\n",
    "\n",
    "#examine coefficients\n"
   ]
  },
  {
   "attachments": {},
   "cell_type": "markdown",
   "id": "5ef70791",
   "metadata": {},
   "source": []
  }
 ],
 "metadata": {
  "kernelspec": {
   "display_name": "Python 3 (ipykernel)",
   "language": "python",
   "name": "python3"
  },
  "language_info": {
   "codemirror_mode": {
    "name": "ipython",
    "version": 3
   },
   "file_extension": ".py",
   "mimetype": "text/x-python",
   "name": "python",
   "nbconvert_exporter": "python",
   "pygments_lexer": "ipython3",
   "version": "3.9.12"
  }
 },
 "nbformat": 4,
 "nbformat_minor": 5
}
